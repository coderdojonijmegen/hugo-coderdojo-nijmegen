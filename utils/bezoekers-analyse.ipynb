{
 "cells": [
  {
   "attachments": {},
   "cell_type": "markdown",
   "metadata": {},
   "source": [
    "# Init\n",
    "Get the data from the EventBrite API and process it into a list of events.\n",
    "Cache it to an `events.json` file stored in the file system."
   ]
  },
  {
   "cell_type": "code",
   "execution_count": null,
   "metadata": {},
   "outputs": [],
   "source": [
    "import json\n",
    "import pandas as pd\n",
    "from datetime import datetime\n",
    "from pathlib import Path\n",
    "from requests import get\n",
    "import matplotlib.pyplot as plt\n",
    "\n",
    "plt.close(\"all\")\n",
    "\n",
    "pd.set_option('display.max_rows', None)\n",
    "pd.set_option('display.max_colwidth', None)\n",
    "\n",
    "if not Path(\"events.json\").is_file():\n",
    "\n",
    "\n",
    "    # documentation: https://www.eventbrite.nl/platform/api\n",
    "    # new API key from: https://www.eventbrite.nl/platform/api-keys/\n",
    "    #   note: each visit of this page creates a new API key at https://www.eventbrite.nl/account-settings/apps\n",
    "    # API key stored in Bitwarden vault Bas\n",
    "    auth_header = {\"Authorization\": \"Bearer <api-key>\"}\n",
    "\n",
    "    events = []\n",
    "    has_more_items = True\n",
    "    page = 0\n",
    "\n",
    "    while has_more_items:\n",
    "        page += 1\n",
    "        r = get(f\"https://www.eventbriteapi.com/v3/organizations/187233351803/events/?order_by=created_asc&page={page}&expand=venue\", headers=auth_header)\n",
    "        events_json = r.json()\n",
    "        for event_json in events_json[\"events\"]:\n",
    "            event_json[\"event_date\"] = event_json[\"start\"][\"local\"]\n",
    "            ra = get(f\"https://www.eventbriteapi.com/v3/events/{event_json['id']}/attendees\", headers=auth_header)\n",
    "            event_json['attendees'] = ra.json()\n",
    "            rd = get(f\"https://www.eventbriteapi.com/v3/events/{event_json['id']}/description\", headers=auth_header)\n",
    "            event_json['description_ext'] = rd.json()\n",
    "            events.append(event_json)\n",
    "        has_more_items = events_json[\"pagination\"][\"has_more_items\"]\n",
    "\n",
    "    with open(\"events.json\", 'w') as events_file:\n",
    "        events_file.write(json.dumps(events))\n",
    "else:\n",
    "    with open(\"events.json\", 'r') as events_file:\n",
    "        events = json.load(events_file)\n"
   ]
  },
  {
   "attachments": {},
   "cell_type": "markdown",
   "metadata": {},
   "source": [
    "Prepare some functions and filter out events that are not for ninjas."
   ]
  },
  {
   "cell_type": "code",
   "execution_count": null,
   "metadata": {},
   "outputs": [],
   "source": [
    "\n",
    "def get_sold_tickets(event):\n",
    "    return event['attendees']['pagination']['object_count']\n",
    "\n",
    "\n",
    "def get_checkins(event):\n",
    "    return len([attendee for attendee in event['attendees']['attendees'] if attendee['checked_in']])\n",
    "\n",
    "def as_datetime(event):\n",
    "    return datetime.strptime(event[\"event_date\"], \"%Y-%m-%dT%H:%M:%S\")\n",
    "\n",
    "def as_month(event):\n",
    "    return datetime.strftime(as_datetime(event), '%m')\n",
    "\n",
    "def as_date(event):\n",
    "    return datetime.strftime(as_datetime(event), '%Y-%m-%d')\n",
    "\n",
    "known_locations = [\n",
    "    \"zwanenveld\",\n",
    "    \"biezantijn\",\n",
    "    \"mariënburg\",\n",
    "    \"online\",\n",
    "    \"valkhof\"\n",
    "]\n",
    "\n",
    "def location(event: dict) -> str:\n",
    "    loc = 'online' if event['online_event'] else event['venue']['name']\n",
    "    for known_location in known_locations:\n",
    "        if known_location in loc.lower():\n",
    "            return known_location\n",
    "    return loc\n",
    "\n",
    "ids_to_remove = [\n",
    "37396107765,\n",
    "43018135401,\n",
    "49624002728,\n",
    "]\n",
    "for event in list(events):\n",
    "    if int(event['id']) in ids_to_remove:\n",
    "        events.remove(event)\n"
   ]
  },
  {
   "attachments": {},
   "cell_type": "markdown",
   "metadata": {},
   "source": [
    "# Overview of all dojos over time in a table"
   ]
  },
  {
   "cell_type": "code",
   "execution_count": null,
   "metadata": {},
   "outputs": [],
   "source": [
    "dojos = []\n",
    "for event in events:\n",
    "    dojos.append([\n",
    "        as_month(event), \n",
    "        as_date(event), \n",
    "        'online' if event['online_event'] else event['venue']['name'], \n",
    "        event['name']['text'], \n",
    "        event['capacity'], \n",
    "        get_sold_tickets(event), \n",
    "        get_checkins(event)\n",
    "    ])\n",
    "\n",
    "pd.DataFrame(dojos, columns=[\"maand\", \"datum\", \"locatie\", \"onderwerp\", \"aantal tickets\", \"gekocht\", \"ingecheckt\"])"
   ]
  },
  {
   "cell_type": "code",
   "execution_count": null,
   "metadata": {},
   "outputs": [],
   "source": [
    "checkins_over_time = {\n",
    "    'datum': [as_date(event) for event in events],\n",
    "    'checkins': [get_checkins(event) if not event['online_event'] else 0 for event in events],\n",
    "    'online checkins': [get_checkins(event) if event['online_event'] else 0  for event in events],\n",
    "}\n",
    "df = pd.DataFrame(checkins_over_time)\n",
    "df.plot(x='datum', y=['checkins', 'online checkins'], kind='bar', stacked=True, width=0.8, figsize=(20,8), colormap='jet', title='checkins over tijd')\n"
   ]
  },
  {
   "cell_type": "code",
   "execution_count": null,
   "metadata": {},
   "outputs": [],
   "source": [
    "\n",
    "locations = list(set([location(event) for event in events]))\n",
    "\n",
    "checkins = {\n",
    "    'datum': [as_date(event) for event in events],\n",
    "}\n",
    "for loc in locations:\n",
    "    checkins[loc] = [get_checkins(event) if location(event) == loc else 0 for event in events]\n",
    "\n",
    "df = pd.DataFrame(checkins)\n",
    "df.plot(x='datum', y=locations, kind='bar', figsize=(20,8), stacked=True, width=0.8, colormap='hsv', title='checkins over tijd per locatie')\n",
    "    \n"
   ]
  },
  {
   "cell_type": "code",
   "execution_count": null,
   "metadata": {},
   "outputs": [],
   "source": [
    "# per maand\n",
    "months = {}\n",
    "for event in events:\n",
    "    if not event['online_event']:\n",
    "        month = as_month(event)\n",
    "        if not month in months:\n",
    "            months[month] = {}\n",
    "        months[month][as_date(event)] = get_checkins(event)\n",
    "\n",
    "monthly = []\n",
    "print(\"maand,min,avg,max\")\n",
    "for month in sorted(months):\n",
    "    total = 0\n",
    "    min = 100\n",
    "    max = 0\n",
    "    for datum in months[month]:\n",
    "        checkins = months[month][datum]\n",
    "        total += checkins\n",
    "        if checkins < min:\n",
    "            min = checkins\n",
    "        if checkins > max:\n",
    "            max = checkins\n",
    "        # print(f\"{month},{datum},{checkins}\")\n",
    "    avg = total/len(months[month])\n",
    "    monthly.append([month, min, avg, max])\n",
    "    # print(f\"{month},{min},{avg - min},{max - avg},{avg},{max}\")\n",
    "\n",
    "df = pd.DataFrame(monthly, columns=['maand', 'min', 'gemiddeld', 'max'])\n",
    "df.plot(x='maand', y=['min', 'gemiddeld', 'max'], kind='bar', title='checkins per maand van het jaar')\n"
   ]
  }
 ],
 "metadata": {
  "kernelspec": {
   "display_name": "Python 3",
   "language": "python",
   "name": "python3"
  },
  "language_info": {
   "codemirror_mode": {
    "name": "ipython",
    "version": 3
   },
   "file_extension": ".py",
   "mimetype": "text/x-python",
   "name": "python",
   "nbconvert_exporter": "python",
   "pygments_lexer": "ipython3",
   "version": "3.8.10"
  },
  "orig_nbformat": 4
 },
 "nbformat": 4,
 "nbformat_minor": 2
}
